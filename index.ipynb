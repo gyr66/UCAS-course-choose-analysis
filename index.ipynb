{
 "cells": [
  {
   "cell_type": "code",
   "execution_count": 1,
   "metadata": {},
   "outputs": [],
   "source": [
    "from bs4 import BeautifulSoup\n",
    "import pandas as pd\n",
    "\n",
    "from course import Course, CourseLoader"
   ]
  },
  {
   "cell_type": "code",
   "execution_count": 2,
   "metadata": {},
   "outputs": [],
   "source": [
    "with open('content.html', 'r', encoding='utf-8') as f:\n",
    "    content = f.read()"
   ]
  },
  {
   "cell_type": "code",
   "execution_count": 3,
   "metadata": {},
   "outputs": [],
   "source": [
    "soup = BeautifulSoup(content, 'html.parser')"
   ]
  },
  {
   "cell_type": "code",
   "execution_count": 4,
   "metadata": {},
   "outputs": [],
   "source": [
    "main_content_div = soup.find('div', id='main-content')"
   ]
  },
  {
   "cell_type": "code",
   "execution_count": 5,
   "metadata": {},
   "outputs": [],
   "source": [
    "courses = main_content_div.find('table').find('tbody').find_all('tr')"
   ]
  },
  {
   "cell_type": "code",
   "execution_count": 6,
   "metadata": {},
   "outputs": [],
   "source": [
    "results = []\n",
    "course_loader = None\n",
    "for course in courses:\n",
    "    fields = course.find_all('td')\n",
    "    if len(fields) == 18:\n",
    "      # 新的course\n",
    "      if course_loader is not None:\n",
    "        results.append(course_loader.load_item())\n",
    "      course_loader = CourseLoader(Course())\n",
    "      course_loader.add_value('index', fields[0])\n",
    "      course_loader.add_value('department', fields[1])\n",
    "      course_loader.add_value('id', fields[2])\n",
    "      course_loader.add_value('name', fields[3])\n",
    "      course_loader.add_value('type', fields[4])\n",
    "      course_loader.add_value('discipline', fields[5])\n",
    "      hour_credit = fields[6].get_text(strip=True)\n",
    "      course_loader.add_value('hours', int(hour_credit.split('/')[0]))\n",
    "      course_loader.add_value('credits', float(hour_credit.split('/')[1]))\n",
    "      course_loader.add_value('limit_cnt', fields[7])\n",
    "      course_loader.add_value('chosen_cnt', fields[8])\n",
    "      arrange = (fields[9], fields[10], fields[11])\n",
    "      course_loader.add_value('arrange', arrange)\n",
    "      course_loader.add_value('teach_method', fields[12])\n",
    "      course_loader.add_value('exam_method', fields[13])\n",
    "      course_loader.add_value('chair_professor', fields[14])\n",
    "      course_loader.add_value('teacher', fields[15])\n",
    "      course_loader.add_value('assistant', fields[16])\n",
    "      course_loader.add_value('remote_learning', fields[17])\n",
    "    elif len(fields) == 3:\n",
    "      arrange = (fields[0], fields[1], fields[2])\n",
    "      course_loader.add_value('arrange', arrange)\n",
    "    else:\n",
    "      raise Exception('Unknown Format')\n",
    "if course_loader is not None:\n",
    "    results.append(course_loader.load_item())"
   ]
  },
  {
   "cell_type": "code",
   "execution_count": 7,
   "metadata": {},
   "outputs": [
    {
     "name": "stdout",
     "output_type": "stream",
     "text": [
      "总共获取到 1718 门课信息\n"
     ]
    }
   ],
   "source": [
    "print(f'总共获取到 {len(results)} 门课信息')"
   ]
  },
  {
   "cell_type": "code",
   "execution_count": 8,
   "metadata": {},
   "outputs": [],
   "source": [
    "choice_list = ['0839X2M04001H', '081203M04003H', '083500M01001H-2', '081202MGX001H',  '030500MGB001H-13', '120400MGB001H-20', '081200MGB001H-1', '081202M04001H-1', '050200MGB003H-002']\n",
    "\n",
    "chosen_course_list = list(filter(lambda course: course['id'] in choice_list, results))"
   ]
  },
  {
   "cell_type": "code",
   "execution_count": 9,
   "metadata": {},
   "outputs": [
    {
     "name": "stdout",
     "output_type": "stream",
     "text": [
      "所选课程无冲突\n"
     ]
    }
   ],
   "source": [
    "# 检测冲突\n",
    "conflict = False\n",
    "for i in range(len(chosen_course_list)):\n",
    "    for j in range(i + 1, len(chosen_course_list)):\n",
    "        course_x = chosen_course_list[i]\n",
    "        course_y = chosen_course_list[j]\n",
    "        arrange_x = course_x['arrange']\n",
    "        arrange_y = course_y['arrange']\n",
    "        for period_x in arrange_x:\n",
    "            if conflict:\n",
    "                break\n",
    "            for period_y in arrange_y:\n",
    "                if period_x[0] == period_y[0] and period_x[1] == period_y[1]:\n",
    "                    set_x = set(period_x[2])\n",
    "                    set_y = set(period_y[2])\n",
    "                    if set_x & set_y:\n",
    "                        print(f'检测到 {course_x[\"name\"]} 和 {course_y[\"name\"]} 在 {period_x[0]} 周, 星期 {period_x[1]} 冲突: {period_x[2]} {period_y[2]}')\n",
    "                        conflict = True\n",
    "                        break\n",
    "if not conflict:\n",
    "    print('所选课程无冲突')"
   ]
  },
  {
   "cell_type": "code",
   "execution_count": 10,
   "metadata": {},
   "outputs": [
    {
     "data": {
      "text/html": [
       "<style type=\"text/css\">\n",
       "table {\n",
       "    border-collapse: collapse !important;\n",
       "}\n",
       "th, td {\n",
       "    padding: 8px !important;\n",
       "    text-align: center !important;\n",
       "    width: 120px !important\n",
       "}\n",
       "th {\n",
       "    background-color: #f2f2f2 !important;\n",
       "}\n",
       "td {\n",
       "    border: 1px solid #ddd !important;\n",
       "}\n",
       "</style>\n"
      ],
      "text/plain": [
       "<IPython.core.display.HTML object>"
      ]
     },
     "metadata": {},
     "output_type": "display_data"
    }
   ],
   "source": [
    "%%HTML\n",
    "<style type=\"text/css\">\n",
    "table {\n",
    "    border-collapse: collapse !important;\n",
    "}\n",
    "th, td {\n",
    "    padding: 8px !important;\n",
    "    text-align: center !important;\n",
    "    width: 120px !important\n",
    "}\n",
    "th {\n",
    "    background-color: #f2f2f2 !important;\n",
    "}\n",
    "td {\n",
    "    border: 1px solid #ddd !important;\n",
    "}\n",
    "</style>"
   ]
  },
  {
   "cell_type": "code",
   "execution_count": 11,
   "metadata": {},
   "outputs": [
    {
     "data": {
      "application/vnd.jupyter.widget-view+json": {
       "model_id": "cd5e836e166741239a8703af4a38e493",
       "version_major": 2,
       "version_minor": 0
      },
      "text/plain": [
       "VBox(children=(HBox(children=(Dropdown(description='周次', options=(1, 2, 3, 4, 5, 6, 7, 8, 9, 10, 11, 12, 13, 1…"
      ]
     },
     "execution_count": 11,
     "metadata": {},
     "output_type": "execute_result"
    }
   ],
   "source": [
    "import ipywidgets as widgets\n",
    "from IPython.display import display, clear_output\n",
    "\n",
    "\n",
    "button = widgets.Button(description=\"显示\")\n",
    "output = widgets.Output()\n",
    "menu = widgets.Dropdown(\n",
    "       options=list(range(1, 21)),\n",
    "       value=1,\n",
    "       description=\"周次\")\n",
    "\n",
    "\n",
    "def update_course_table():\n",
    "    course_table = [[\"\"] * 7 for _ in range(12)]  # 每天12节课\n",
    "    for course in chosen_course_list:\n",
    "        arrange = course[\"arrange\"]\n",
    "        for course_week, course_day, course_periods, classroom in arrange:\n",
    "            if course_week == menu.value:\n",
    "                for period in course_periods:\n",
    "                    course_table[period - 1][course_day - 1] = course[\"name\"]\n",
    "    df_course_table = pd.DataFrame(\n",
    "        course_table,\n",
    "        index=range(1, 13),\n",
    "        columns=[\"星期一\", \"星期二\", \"星期三\", \"星期四\", \"星期五\", \"星期六\", \"星期日\"],\n",
    "    )\n",
    "    time_ranges = {\n",
    "        1: \"1 [8:30-9:20]\",\n",
    "        2: \"2 [9:20-10:10]\",\n",
    "        3: \"3 [10:30-11:20]\",\n",
    "        4: \"4 [11:20-12:10]\",\n",
    "        5: \"5 [13:30-14:20]\",\n",
    "        6: \"6 [14:20-15:10]\",\n",
    "        7: \"7 [15:30-16:20]\",\n",
    "        8: \"8 [16:20-17:10]\",\n",
    "        9: \"9 [18:10-19:00]\",\n",
    "        10: \"10 [19:00-19:50]\",\n",
    "        11: \"11 [20:10-21:00]\",\n",
    "        12: \"12 [21:00-21:50]\",\n",
    "    }\n",
    "    df_course_table = df_course_table.rename(index=time_ranges)\n",
    "    return df_course_table\n",
    "\n",
    "def redraw(_):\n",
    "    course_table = update_course_table()\n",
    "    with output:\n",
    "        clear_output()\n",
    "        print(f\"第 {menu.value} 周课程表\")\n",
    "        course_table = update_course_table()\n",
    "        display(course_table)\n",
    "\n",
    "\n",
    "button.on_click(redraw)\n",
    "redraw(None)\n",
    "widgets.VBox([widgets.HBox([menu, button]), output])"
   ]
  },
  {
   "cell_type": "code",
   "execution_count": 12,
   "metadata": {},
   "outputs": [
    {
     "name": "stdout",
     "output_type": "stream",
     "text": [
      "专业学位课学分数: 12.0\n",
      "公共必修课学分数: 6.0\n",
      "公共选修学分数: 1.0\n",
      "总学分数: 19.0\n"
     ]
    }
   ],
   "source": [
    "# 计算学分\n",
    "speciality_credit = 0.\n",
    "public_compulsory_credit = 0.\n",
    "public_elective_credit = 0.\n",
    "\n",
    "for course in chosen_course_list:\n",
    "    if course['type'] == '公共必修课':\n",
    "        public_compulsory_credit += course['credits']\n",
    "    elif course['type'] == '公共选修课':\n",
    "        public_elective_credit += course['credits']\n",
    "    else:\n",
    "        speciality_credit += course['credits']\n",
    "\n",
    "print(f'专业学位课学分数: {speciality_credit}')\n",
    "print(f'公共必修课学分数: {public_compulsory_credit}')\n",
    "print(f'公共选修学分数: {public_elective_credit}')\n",
    "print(f'总学分数: {speciality_credit + public_compulsory_credit + public_elective_credit}')"
   ]
  },
  {
   "cell_type": "code",
   "execution_count": 13,
   "metadata": {},
   "outputs": [
    {
     "name": "stdout",
     "output_type": "stream",
     "text": [
      "课程名 限选 已选 相差\n"
     ]
    },
    {
     "data": {
      "text/html": [
       "<div>\n",
       "<style scoped>\n",
       "    .dataframe tbody tr th:only-of-type {\n",
       "        vertical-align: middle;\n",
       "    }\n",
       "\n",
       "    .dataframe tbody tr th {\n",
       "        vertical-align: top;\n",
       "    }\n",
       "\n",
       "    .dataframe thead th {\n",
       "        text-align: right;\n",
       "    }\n",
       "</style>\n",
       "<table border=\"1\" class=\"dataframe\">\n",
       "  <thead>\n",
       "    <tr style=\"text-align: right;\">\n",
       "      <th></th>\n",
       "      <th>课程编码</th>\n",
       "      <th>课程名称</th>\n",
       "      <th>开课单位</th>\n",
       "      <th>课程属性</th>\n",
       "      <th>所属学科/专业</th>\n",
       "      <th>学分</th>\n",
       "      <th>学时</th>\n",
       "      <th>首席教授</th>\n",
       "      <th>授课方式</th>\n",
       "      <th>考试方式</th>\n",
       "      <th>限选</th>\n",
       "      <th>已选</th>\n",
       "      <th>相差</th>\n",
       "    </tr>\n",
       "  </thead>\n",
       "  <tbody>\n",
       "    <tr>\n",
       "      <th>0</th>\n",
       "      <td>120400MGB001H-20</td>\n",
       "      <td>学术道德与学术写作规范-通论</td>\n",
       "      <td>公共政策与管理学院</td>\n",
       "      <td>公共必修课</td>\n",
       "      <td>公共管理</td>\n",
       "      <td>0.5</td>\n",
       "      <td>10</td>\n",
       "      <td>刘朝</td>\n",
       "      <td>授课、讨论</td>\n",
       "      <td>大开卷</td>\n",
       "      <td>300</td>\n",
       "      <td>301</td>\n",
       "      <td>-1</td>\n",
       "    </tr>\n",
       "    <tr>\n",
       "      <th>1</th>\n",
       "      <td>050200MGB003H-002</td>\n",
       "      <td>英语A-02班（怀）</td>\n",
       "      <td>外语系</td>\n",
       "      <td>公共必修课</td>\n",
       "      <td>外国语言文学</td>\n",
       "      <td>3.0</td>\n",
       "      <td>32</td>\n",
       "      <td>曹笃鑫</td>\n",
       "      <td>课堂讲授为主</td>\n",
       "      <td>其它（需说明）</td>\n",
       "      <td>29</td>\n",
       "      <td>29</td>\n",
       "      <td>0</td>\n",
       "    </tr>\n",
       "    <tr>\n",
       "      <th>2</th>\n",
       "      <td>081200MGB001H-1</td>\n",
       "      <td>学术道德与学术写作规范-分论</td>\n",
       "      <td>计算机科学与技术学院</td>\n",
       "      <td>公共必修课</td>\n",
       "      <td>计算机科学与技术</td>\n",
       "      <td>0.5</td>\n",
       "      <td>10</td>\n",
       "      <td>刘兴武</td>\n",
       "      <td>授课、讨论</td>\n",
       "      <td>读书报告</td>\n",
       "      <td>243</td>\n",
       "      <td>243</td>\n",
       "      <td>0</td>\n",
       "    </tr>\n",
       "    <tr>\n",
       "      <th>3</th>\n",
       "      <td>0839X2M04001H</td>\n",
       "      <td>自然语言处理</td>\n",
       "      <td>网络空间安全学院</td>\n",
       "      <td>专业核心课</td>\n",
       "      <td>信息内容安全</td>\n",
       "      <td>3.0</td>\n",
       "      <td>60</td>\n",
       "      <td>胡玥</td>\n",
       "      <td>课堂讲授为主</td>\n",
       "      <td>闭卷笔试</td>\n",
       "      <td>150</td>\n",
       "      <td>150</td>\n",
       "      <td>0</td>\n",
       "    </tr>\n",
       "    <tr>\n",
       "      <th>4</th>\n",
       "      <td>030500MGB001H-13</td>\n",
       "      <td>新时代中国特色社会主义理论与实践(西区)</td>\n",
       "      <td>马克思主义学院</td>\n",
       "      <td>公共必修课</td>\n",
       "      <td>马克思主义理论</td>\n",
       "      <td>2.0</td>\n",
       "      <td>36</td>\n",
       "      <td>刘彦随等</td>\n",
       "      <td>课堂讲授为主</td>\n",
       "      <td>其它（需说明）</td>\n",
       "      <td>200</td>\n",
       "      <td>199</td>\n",
       "      <td>1</td>\n",
       "    </tr>\n",
       "    <tr>\n",
       "      <th>5</th>\n",
       "      <td>081203M04003H</td>\n",
       "      <td>高级人工智能</td>\n",
       "      <td>计算机科学与技术学院</td>\n",
       "      <td>专业核心课</td>\n",
       "      <td>计算机应用技术</td>\n",
       "      <td>3.0</td>\n",
       "      <td>60</td>\n",
       "      <td>沈华伟</td>\n",
       "      <td>课堂讲授为主</td>\n",
       "      <td>闭卷笔试</td>\n",
       "      <td>502</td>\n",
       "      <td>493</td>\n",
       "      <td>9</td>\n",
       "    </tr>\n",
       "    <tr>\n",
       "      <th>6</th>\n",
       "      <td>081202MGX001H</td>\n",
       "      <td>C++程序设计</td>\n",
       "      <td>计算机科学与技术学院</td>\n",
       "      <td>公共选修课</td>\n",
       "      <td>计算机软件与理论</td>\n",
       "      <td>1.0</td>\n",
       "      <td>40</td>\n",
       "      <td>杨力祥</td>\n",
       "      <td>课堂讲授为主</td>\n",
       "      <td>大开卷</td>\n",
       "      <td>214</td>\n",
       "      <td>200</td>\n",
       "      <td>14</td>\n",
       "    </tr>\n",
       "    <tr>\n",
       "      <th>7</th>\n",
       "      <td>083500M01001H-2</td>\n",
       "      <td>计算机算法设计与分析</td>\n",
       "      <td>计算机科学与技术学院</td>\n",
       "      <td>一级学科核心课</td>\n",
       "      <td>软件工程</td>\n",
       "      <td>3.0</td>\n",
       "      <td>60</td>\n",
       "      <td>刘玉贵</td>\n",
       "      <td>课堂讲授为主</td>\n",
       "      <td>闭卷笔试</td>\n",
       "      <td>154</td>\n",
       "      <td>132</td>\n",
       "      <td>22</td>\n",
       "    </tr>\n",
       "    <tr>\n",
       "      <th>8</th>\n",
       "      <td>081202M04001H-1</td>\n",
       "      <td>高级软件工程</td>\n",
       "      <td>计算机科学与技术学院</td>\n",
       "      <td>专业核心课</td>\n",
       "      <td>计算机软件与理论</td>\n",
       "      <td>3.0</td>\n",
       "      <td>60</td>\n",
       "      <td>魏峻</td>\n",
       "      <td>授课、讨论</td>\n",
       "      <td>闭卷笔试</td>\n",
       "      <td>214</td>\n",
       "      <td>67</td>\n",
       "      <td>147</td>\n",
       "    </tr>\n",
       "  </tbody>\n",
       "</table>\n",
       "</div>"
      ],
      "text/plain": [
       "                课程编码                  课程名称        开课单位     课程属性   所属学科/专业  \\\n",
       "0   120400MGB001H-20        学术道德与学术写作规范-通论   公共政策与管理学院    公共必修课      公共管理   \n",
       "1  050200MGB003H-002            英语A-02班（怀）         外语系    公共必修课    外国语言文学   \n",
       "2    081200MGB001H-1        学术道德与学术写作规范-分论  计算机科学与技术学院    公共必修课  计算机科学与技术   \n",
       "3      0839X2M04001H                自然语言处理    网络空间安全学院    专业核心课    信息内容安全   \n",
       "4   030500MGB001H-13  新时代中国特色社会主义理论与实践(西区)     马克思主义学院    公共必修课   马克思主义理论   \n",
       "5      081203M04003H                高级人工智能  计算机科学与技术学院    专业核心课   计算机应用技术   \n",
       "6      081202MGX001H               C++程序设计  计算机科学与技术学院    公共选修课  计算机软件与理论   \n",
       "7    083500M01001H-2            计算机算法设计与分析  计算机科学与技术学院  一级学科核心课      软件工程   \n",
       "8    081202M04001H-1                高级软件工程  计算机科学与技术学院    专业核心课  计算机软件与理论   \n",
       "\n",
       "    学分  学时  首席教授    授课方式     考试方式   限选   已选   相差  \n",
       "0  0.5  10    刘朝   授课、讨论      大开卷  300  301   -1  \n",
       "1  3.0  32   曹笃鑫  课堂讲授为主  其它（需说明）   29   29    0  \n",
       "2  0.5  10   刘兴武   授课、讨论     读书报告  243  243    0  \n",
       "3  3.0  60    胡玥  课堂讲授为主     闭卷笔试  150  150    0  \n",
       "4  2.0  36  刘彦随等  课堂讲授为主  其它（需说明）  200  199    1  \n",
       "5  3.0  60   沈华伟  课堂讲授为主     闭卷笔试  502  493    9  \n",
       "6  1.0  40   杨力祥  课堂讲授为主      大开卷  214  200   14  \n",
       "7  3.0  60   刘玉贵  课堂讲授为主     闭卷笔试  154  132   22  \n",
       "8  3.0  60    魏峻   授课、讨论     闭卷笔试  214   67  147  "
      ]
     },
     "execution_count": 13,
     "metadata": {},
     "output_type": "execute_result"
    }
   ],
   "source": [
    "# 分析选课顺序，以限选和已选之间的差作为排序依据\n",
    "for course in chosen_course_list:\n",
    "    course['sort_key'] = course['limit_cnt'] - course['chosen_cnt']\n",
    "\n",
    "chosen_course_list.sort(key=lambda x: x['sort_key'])\n",
    "\n",
    "chosen_course_df = pd.DataFrame(columns=['课程编码', '课程名称', '开课单位', '课程属性', '所属学科/专业', '学分', '学时', '首席教授', '授课方式', '考试方式', '限选', '已选', '相差'])\n",
    "\n",
    "print(\"课程名 限选 已选 相差\")\n",
    "for index, course in enumerate(chosen_course_list):\n",
    "    chosen_course_df.loc[index] = [course['id'], course['name'], course['department'], course['type'], course['discipline'], course['credits'], course['hours'], course.get('chair_professor') or course.get('teacher'), course['teach_method'], course['exam_method'], course['limit_cnt'], course['chosen_cnt'], course['limit_cnt'] - course['chosen_cnt']]\n",
    "chosen_course_df"
   ]
  },
  {
   "cell_type": "code",
   "execution_count": null,
   "metadata": {},
   "outputs": [],
   "source": [
    "# 分析公共必修课，公共必修课有很多班，选择很多，不应与已选其余课程冲突\n",
    "course_name = '新时代中国特色社会主义理论与实践(西区)'\n",
    "choice_list = list(filter(lambda course: course['name'] == course_name, results))"
   ]
  },
  {
   "cell_type": "code",
   "execution_count": null,
   "metadata": {},
   "outputs": [],
   "source": [
    "def check_conflict(candidate, course_list):\n",
    "    for course in course_list:\n",
    "        arrange_x = candidate['arrange']\n",
    "        arrange_y = course['arrange']\n",
    "        for period_x in arrange_x:\n",
    "            for period_y in arrange_y:\n",
    "                if period_x[0] == period_y[0] and period_x[1] == period_y[1]:\n",
    "                    set_x = set(period_x[2])\n",
    "                    set_y = set(period_y[2])\n",
    "                    if set_x & set_y:\n",
    "                        return True\n",
    "    return False"
   ]
  },
  {
   "cell_type": "code",
   "execution_count": null,
   "metadata": {},
   "outputs": [],
   "source": [
    "actual_choice_list = []\n",
    "for choice in choice_list:\n",
    "    if check_conflict(choice, chosen_course_list):\n",
    "        continue\n",
    "    actual_choice_list.append(choice)"
   ]
  },
  {
   "cell_type": "code",
   "execution_count": null,
   "metadata": {},
   "outputs": [
    {
     "data": {
      "text/plain": [
       "3"
      ]
     },
     "execution_count": 17,
     "metadata": {},
     "output_type": "execute_result"
    }
   ],
   "source": [
    "len(actual_choice_list)"
   ]
  },
  {
   "cell_type": "code",
   "execution_count": null,
   "metadata": {},
   "outputs": [
    {
     "data": {
      "text/plain": [
       "[{'arrange': [(2, 4, [1, 2, 3, 4], '教一楼101'),\n",
       "              (3, 4, [1, 2, 3, 4], '教一楼101'),\n",
       "              (4, 4, [1, 2, 3, 4], '教一楼101'),\n",
       "              (5, 4, [1, 2, 3, 4], '教一楼101'),\n",
       "              (6, 4, [1, 2, 3, 4], '教一楼101'),\n",
       "              (7, 4, [1, 2, 3, 4], '教一楼101'),\n",
       "              (8, 4, [1, 2, 3, 4], '教一楼101'),\n",
       "              (9, 4, [1, 2, 3, 4], '教一楼101'),\n",
       "              (10, 4, [1, 2, 3, 4], '教一楼101')],\n",
       "  'assistant': '张慧博',\n",
       "  'chosen_cnt': 200,\n",
       "  'credits': 2.0,\n",
       "  'department': '马克思主义学院',\n",
       "  'exam_method': '其它（需说明）',\n",
       "  'hours': 36,\n",
       "  'id': '030500MGB001H-07',\n",
       "  'index': '84',\n",
       "  'limit_cnt': 200,\n",
       "  'name': '新时代中国特色社会主义理论与实践(西区)',\n",
       "  'remote_learning': '否',\n",
       "  'teach_method': '课堂讲授为主',\n",
       "  'teacher': '樊杰等',\n",
       "  'type': '公共必修课'},\n",
       " {'arrange': [(11, 4, [1, 2, 3, 4], '教一楼101'),\n",
       "              (12, 4, [1, 2, 3, 4], '教一楼101'),\n",
       "              (13, 4, [1, 2, 3, 4], '教一楼101'),\n",
       "              (14, 4, [1, 2, 3, 4], '教一楼101'),\n",
       "              (15, 4, [1, 2, 3, 4], '教一楼101'),\n",
       "              (16, 4, [1, 2, 3, 4], '教一楼101'),\n",
       "              (17, 4, [1, 2, 3, 4], '教一楼101'),\n",
       "              (18, 4, [1, 2, 3, 4], '教一楼101')],\n",
       "  'chosen_cnt': 200,\n",
       "  'credits': 2.0,\n",
       "  'department': '马克思主义学院',\n",
       "  'exam_method': '其它（需说明）',\n",
       "  'hours': 36,\n",
       "  'id': '030500MGB001H-31',\n",
       "  'index': '108',\n",
       "  'limit_cnt': 200,\n",
       "  'name': '新时代中国特色社会主义理论与实践(西区)',\n",
       "  'remote_learning': '否',\n",
       "  'teach_method': '课堂讲授为主',\n",
       "  'teacher': '樊杰等',\n",
       "  'type': '公共必修课'},\n",
       " {'arrange': [(11, 5, [5, 6, 7, 8], '教一楼101'),\n",
       "              (12, 5, [5, 6, 7, 8], '教一楼101'),\n",
       "              (13, 5, [5, 6, 7, 8], '教一楼101'),\n",
       "              (14, 5, [5, 6, 7, 8], '教一楼101'),\n",
       "              (15, 5, [5, 6, 7, 8], '教一楼101'),\n",
       "              (16, 5, [5, 6, 7, 8], '教一楼101'),\n",
       "              (17, 5, [5, 6, 7, 8], '教一楼101'),\n",
       "              (18, 5, [5, 6, 7, 8], '教一楼101')],\n",
       "  'chosen_cnt': 200,\n",
       "  'credits': 2.0,\n",
       "  'department': '马克思主义学院',\n",
       "  'exam_method': '其它（需说明）',\n",
       "  'hours': 36,\n",
       "  'id': '030500MGB001H-37',\n",
       "  'index': '114',\n",
       "  'limit_cnt': 200,\n",
       "  'name': '新时代中国特色社会主义理论与实践(西区)',\n",
       "  'remote_learning': '否',\n",
       "  'teach_method': '课堂讲授为主',\n",
       "  'teacher': '曹胜等',\n",
       "  'type': '公共必修课'}]"
      ]
     },
     "execution_count": 18,
     "metadata": {},
     "output_type": "execute_result"
    }
   ],
   "source": [
    "actual_choice_list"
   ]
  },
  {
   "cell_type": "code",
   "execution_count": null,
   "metadata": {},
   "outputs": [],
   "source": []
  }
 ],
 "metadata": {
  "kernelspec": {
   "display_name": "Python 3 (ipykernel)",
   "language": "python",
   "name": "python3"
  },
  "language_info": {
   "codemirror_mode": {
    "name": "ipython",
    "version": 3
   },
   "file_extension": ".py",
   "mimetype": "text/x-python",
   "name": "python",
   "nbconvert_exporter": "python",
   "pygments_lexer": "ipython3",
   "version": "3.9.7"
  },
  "vscode": {
   "interpreter": {
    "hash": "11938c6bc6919ae2720b4d5011047913343b08a43b18698fd82dedb0d4417594"
   }
  }
 },
 "nbformat": 4,
 "nbformat_minor": 2
}
